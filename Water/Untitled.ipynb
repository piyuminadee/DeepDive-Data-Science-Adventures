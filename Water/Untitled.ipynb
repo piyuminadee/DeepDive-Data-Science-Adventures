{
 "cells": [
  {
   "cell_type": "code",
   "execution_count": 1,
   "id": "caa7be88-4d4a-42fa-a747-f03ad5855777",
   "metadata": {},
   "outputs": [],
   "source": [
    "import pandas as pd\n"
   ]
  },
  {
   "cell_type": "code",
   "execution_count": 2,
   "id": "c2d5a973-f8c8-46c5-9aed-d3404d2ae2cb",
   "metadata": {},
   "outputs": [],
   "source": [
    "import numpy as np\n",
    "from sklearn.model_selection import train_test_split\n",
    "from sklearn.preprocessing import StandardScaler"
   ]
  },
  {
   "cell_type": "code",
   "execution_count": 3,
   "id": "137539d2-61e4-4a6e-8da3-a6a95ab8c32e",
   "metadata": {},
   "outputs": [],
   "source": [
    "data = pd.read_csv('dataset.csv')\n"
   ]
  },
  {
   "cell_type": "code",
   "execution_count": 4,
   "id": "177e7b90-b157-4f80-8d07-5030d4ffb199",
   "metadata": {},
   "outputs": [
    {
     "data": {
      "text/html": [
       "<div>\n",
       "<style scoped>\n",
       "    .dataframe tbody tr th:only-of-type {\n",
       "        vertical-align: middle;\n",
       "    }\n",
       "\n",
       "    .dataframe tbody tr th {\n",
       "        vertical-align: top;\n",
       "    }\n",
       "\n",
       "    .dataframe thead th {\n",
       "        text-align: right;\n",
       "    }\n",
       "</style>\n",
       "<table border=\"1\" class=\"dataframe\">\n",
       "  <thead>\n",
       "    <tr style=\"text-align: right;\">\n",
       "      <th></th>\n",
       "      <th>Date</th>\n",
       "      <th>Usage</th>\n",
       "      <th>Temp</th>\n",
       "      <th>ph</th>\n",
       "      <th>TDS</th>\n",
       "    </tr>\n",
       "  </thead>\n",
       "  <tbody>\n",
       "    <tr>\n",
       "      <th>0</th>\n",
       "      <td>2015/06/13</td>\n",
       "      <td>19</td>\n",
       "      <td>24.448</td>\n",
       "      <td>3.716080</td>\n",
       "      <td>20791.31898</td>\n",
       "    </tr>\n",
       "    <tr>\n",
       "      <th>1</th>\n",
       "      <td>2015/06/14</td>\n",
       "      <td>25</td>\n",
       "      <td>24.448</td>\n",
       "      <td>3.716080</td>\n",
       "      <td>18630.05786</td>\n",
       "    </tr>\n",
       "    <tr>\n",
       "      <th>2</th>\n",
       "      <td>2015/06/15</td>\n",
       "      <td>21</td>\n",
       "      <td>24.545</td>\n",
       "      <td>8.099124</td>\n",
       "      <td>19909.54173</td>\n",
       "    </tr>\n",
       "    <tr>\n",
       "      <th>3</th>\n",
       "      <td>2015/06/16</td>\n",
       "      <td>10</td>\n",
       "      <td>24.448</td>\n",
       "      <td>8.316766</td>\n",
       "      <td>22018.41744</td>\n",
       "    </tr>\n",
       "    <tr>\n",
       "      <th>4</th>\n",
       "      <td>2015/06/17</td>\n",
       "      <td>7</td>\n",
       "      <td>24.351</td>\n",
       "      <td>9.092223</td>\n",
       "      <td>17978.98634</td>\n",
       "    </tr>\n",
       "    <tr>\n",
       "      <th>...</th>\n",
       "      <td>...</td>\n",
       "      <td>...</td>\n",
       "      <td>...</td>\n",
       "      <td>...</td>\n",
       "      <td>...</td>\n",
       "    </tr>\n",
       "    <tr>\n",
       "      <th>3271</th>\n",
       "      <td>2024/05/27</td>\n",
       "      <td>4</td>\n",
       "      <td>24.641</td>\n",
       "      <td>4.668102</td>\n",
       "      <td>47580.99160</td>\n",
       "    </tr>\n",
       "    <tr>\n",
       "      <th>3272</th>\n",
       "      <td>2024/05/28</td>\n",
       "      <td>3</td>\n",
       "      <td>24.641</td>\n",
       "      <td>7.808856</td>\n",
       "      <td>17329.80216</td>\n",
       "    </tr>\n",
       "    <tr>\n",
       "      <th>3273</th>\n",
       "      <td>2024/05/29</td>\n",
       "      <td>3</td>\n",
       "      <td>24.641</td>\n",
       "      <td>9.419510</td>\n",
       "      <td>33155.57822</td>\n",
       "    </tr>\n",
       "    <tr>\n",
       "      <th>3274</th>\n",
       "      <td>2024/05/30</td>\n",
       "      <td>3</td>\n",
       "      <td>24.641</td>\n",
       "      <td>5.126763</td>\n",
       "      <td>11983.86938</td>\n",
       "    </tr>\n",
       "    <tr>\n",
       "      <th>3275</th>\n",
       "      <td>2024/05/31</td>\n",
       "      <td>4</td>\n",
       "      <td>24.641</td>\n",
       "      <td>7.874671</td>\n",
       "      <td>17404.17706</td>\n",
       "    </tr>\n",
       "  </tbody>\n",
       "</table>\n",
       "<p>3276 rows × 5 columns</p>\n",
       "</div>"
      ],
      "text/plain": [
       "            Date  Usage    Temp        ph          TDS\n",
       "0     2015/06/13     19  24.448  3.716080  20791.31898\n",
       "1     2015/06/14     25  24.448  3.716080  18630.05786\n",
       "2     2015/06/15     21  24.545  8.099124  19909.54173\n",
       "3     2015/06/16     10  24.448  8.316766  22018.41744\n",
       "4     2015/06/17      7  24.351  9.092223  17978.98634\n",
       "...          ...    ...     ...       ...          ...\n",
       "3271  2024/05/27      4  24.641  4.668102  47580.99160\n",
       "3272  2024/05/28      3  24.641  7.808856  17329.80216\n",
       "3273  2024/05/29      3  24.641  9.419510  33155.57822\n",
       "3274  2024/05/30      3  24.641  5.126763  11983.86938\n",
       "3275  2024/05/31      4  24.641  7.874671  17404.17706\n",
       "\n",
       "[3276 rows x 5 columns]"
      ]
     },
     "execution_count": 4,
     "metadata": {},
     "output_type": "execute_result"
    }
   ],
   "source": [
    "data"
   ]
  },
  {
   "cell_type": "code",
   "execution_count": 5,
   "id": "14e6849b-0477-4080-8bf1-0ab9d60c7778",
   "metadata": {},
   "outputs": [
    {
     "name": "stdout",
     "output_type": "stream",
     "text": [
      "Date     0\n",
      "Usage    0\n",
      "Temp     0\n",
      "ph       0\n",
      "TDS      0\n",
      "dtype: int64\n"
     ]
    }
   ],
   "source": [
    "print(data.isnull().sum())"
   ]
  },
  {
   "cell_type": "code",
   "execution_count": 7,
   "id": "e800e13a-f4ee-4778-bd53-91ab776e8a77",
   "metadata": {},
   "outputs": [],
   "source": [
    "numeric_columns = ['Usage', 'Temp', 'ph', 'TDS']\n"
   ]
  },
  {
   "cell_type": "code",
   "execution_count": 8,
   "id": "de40ac68-df66-4c44-8276-a1bb0588a69d",
   "metadata": {},
   "outputs": [],
   "source": [
    "data[numeric_columns] = data[numeric_columns].fillna(data[numeric_columns].mean())"
   ]
  },
  {
   "cell_type": "code",
   "execution_count": 9,
   "id": "53aeb22f-f1c1-472f-93bd-75519a5077af",
   "metadata": {},
   "outputs": [],
   "source": [
    "data = data.dropna(subset=['Date'])\n"
   ]
  },
  {
   "cell_type": "code",
   "execution_count": 11,
   "id": "52827d1e-8674-4078-b0a8-86a5b11c0d92",
   "metadata": {},
   "outputs": [],
   "source": [
    "data['Date'] = pd.to_datetime(data['Date'], errors='coerce')"
   ]
  },
  {
   "cell_type": "code",
   "execution_count": 12,
   "id": "60ac8447-d0b0-457a-96b5-9fda1267c909",
   "metadata": {},
   "outputs": [],
   "source": [
    "data.dropna(subset=['Date'], inplace=True)"
   ]
  },
  {
   "cell_type": "code",
   "execution_count": 13,
   "id": "2f942d77-77a2-43f8-aa3e-23b7420e722c",
   "metadata": {},
   "outputs": [],
   "source": [
    "data['Year'] = data['Date'].dt.year\n",
    "data['Month'] = data['Date'].dt.month\n",
    "data['Day'] = data['Date'].dt.day\n",
    "data.drop('Date', axis=1, inplace=True)"
   ]
  },
  {
   "cell_type": "code",
   "execution_count": 14,
   "id": "19f5ceb8-015b-419f-a9c0-4fc51c8068b4",
   "metadata": {},
   "outputs": [],
   "source": [
    "data['Previous_Usage'] = data['Usage'].shift(1)\n",
    "data.dropna(inplace=True)"
   ]
  },
  {
   "cell_type": "code",
   "execution_count": 15,
   "id": "3e8ec0da-a1d1-44cd-b9ec-952752049f46",
   "metadata": {},
   "outputs": [],
   "source": [
    "X = data.drop('Usage', axis=1)\n",
    "y = data['Usage']"
   ]
  },
  {
   "cell_type": "code",
   "execution_count": 16,
   "id": "7590ee53-34d3-4d64-ab3e-601ec9d70a4a",
   "metadata": {},
   "outputs": [],
   "source": [
    "scaler = StandardScaler()\n",
    "X_scaled = scaler.fit_transform(X)"
   ]
  },
  {
   "cell_type": "code",
   "execution_count": 17,
   "id": "3ece551a-0f3b-442c-9abb-e8fb8fcfbe08",
   "metadata": {},
   "outputs": [],
   "source": [
    "X_train, X_test, y_train, y_test = train_test_split(X_scaled, y, test_size=0.2, random_state=42)"
   ]
  },
  {
   "cell_type": "code",
   "execution_count": 18,
   "id": "d3caf623-6af8-4b58-8ffa-64b3c88dd386",
   "metadata": {},
   "outputs": [],
   "source": [
    "from sklearn.linear_model import LinearRegression\n",
    "from sklearn.metrics import mean_squared_error, r2_score"
   ]
  },
  {
   "cell_type": "code",
   "execution_count": 19,
   "id": "4c6ae7e9-3eef-48db-a2eb-45b242f23fed",
   "metadata": {},
   "outputs": [
    {
     "data": {
      "text/html": [
       "<style>#sk-container-id-1 {color: black;}#sk-container-id-1 pre{padding: 0;}#sk-container-id-1 div.sk-toggleable {background-color: white;}#sk-container-id-1 label.sk-toggleable__label {cursor: pointer;display: block;width: 100%;margin-bottom: 0;padding: 0.3em;box-sizing: border-box;text-align: center;}#sk-container-id-1 label.sk-toggleable__label-arrow:before {content: \"▸\";float: left;margin-right: 0.25em;color: #696969;}#sk-container-id-1 label.sk-toggleable__label-arrow:hover:before {color: black;}#sk-container-id-1 div.sk-estimator:hover label.sk-toggleable__label-arrow:before {color: black;}#sk-container-id-1 div.sk-toggleable__content {max-height: 0;max-width: 0;overflow: hidden;text-align: left;background-color: #f0f8ff;}#sk-container-id-1 div.sk-toggleable__content pre {margin: 0.2em;color: black;border-radius: 0.25em;background-color: #f0f8ff;}#sk-container-id-1 input.sk-toggleable__control:checked~div.sk-toggleable__content {max-height: 200px;max-width: 100%;overflow: auto;}#sk-container-id-1 input.sk-toggleable__control:checked~label.sk-toggleable__label-arrow:before {content: \"▾\";}#sk-container-id-1 div.sk-estimator input.sk-toggleable__control:checked~label.sk-toggleable__label {background-color: #d4ebff;}#sk-container-id-1 div.sk-label input.sk-toggleable__control:checked~label.sk-toggleable__label {background-color: #d4ebff;}#sk-container-id-1 input.sk-hidden--visually {border: 0;clip: rect(1px 1px 1px 1px);clip: rect(1px, 1px, 1px, 1px);height: 1px;margin: -1px;overflow: hidden;padding: 0;position: absolute;width: 1px;}#sk-container-id-1 div.sk-estimator {font-family: monospace;background-color: #f0f8ff;border: 1px dotted black;border-radius: 0.25em;box-sizing: border-box;margin-bottom: 0.5em;}#sk-container-id-1 div.sk-estimator:hover {background-color: #d4ebff;}#sk-container-id-1 div.sk-parallel-item::after {content: \"\";width: 100%;border-bottom: 1px solid gray;flex-grow: 1;}#sk-container-id-1 div.sk-label:hover label.sk-toggleable__label {background-color: #d4ebff;}#sk-container-id-1 div.sk-serial::before {content: \"\";position: absolute;border-left: 1px solid gray;box-sizing: border-box;top: 0;bottom: 0;left: 50%;z-index: 0;}#sk-container-id-1 div.sk-serial {display: flex;flex-direction: column;align-items: center;background-color: white;padding-right: 0.2em;padding-left: 0.2em;position: relative;}#sk-container-id-1 div.sk-item {position: relative;z-index: 1;}#sk-container-id-1 div.sk-parallel {display: flex;align-items: stretch;justify-content: center;background-color: white;position: relative;}#sk-container-id-1 div.sk-item::before, #sk-container-id-1 div.sk-parallel-item::before {content: \"\";position: absolute;border-left: 1px solid gray;box-sizing: border-box;top: 0;bottom: 0;left: 50%;z-index: -1;}#sk-container-id-1 div.sk-parallel-item {display: flex;flex-direction: column;z-index: 1;position: relative;background-color: white;}#sk-container-id-1 div.sk-parallel-item:first-child::after {align-self: flex-end;width: 50%;}#sk-container-id-1 div.sk-parallel-item:last-child::after {align-self: flex-start;width: 50%;}#sk-container-id-1 div.sk-parallel-item:only-child::after {width: 0;}#sk-container-id-1 div.sk-dashed-wrapped {border: 1px dashed gray;margin: 0 0.4em 0.5em 0.4em;box-sizing: border-box;padding-bottom: 0.4em;background-color: white;}#sk-container-id-1 div.sk-label label {font-family: monospace;font-weight: bold;display: inline-block;line-height: 1.2em;}#sk-container-id-1 div.sk-label-container {text-align: center;}#sk-container-id-1 div.sk-container {/* jupyter's `normalize.less` sets `[hidden] { display: none; }` but bootstrap.min.css set `[hidden] { display: none !important; }` so we also need the `!important` here to be able to override the default hidden behavior on the sphinx rendered scikit-learn.org. See: https://github.com/scikit-learn/scikit-learn/issues/21755 */display: inline-block !important;position: relative;}#sk-container-id-1 div.sk-text-repr-fallback {display: none;}</style><div id=\"sk-container-id-1\" class=\"sk-top-container\"><div class=\"sk-text-repr-fallback\"><pre>LinearRegression()</pre><b>In a Jupyter environment, please rerun this cell to show the HTML representation or trust the notebook. <br />On GitHub, the HTML representation is unable to render, please try loading this page with nbviewer.org.</b></div><div class=\"sk-container\" hidden><div class=\"sk-item\"><div class=\"sk-estimator sk-toggleable\"><input class=\"sk-toggleable__control sk-hidden--visually\" id=\"sk-estimator-id-1\" type=\"checkbox\" checked><label for=\"sk-estimator-id-1\" class=\"sk-toggleable__label sk-toggleable__label-arrow\">LinearRegression</label><div class=\"sk-toggleable__content\"><pre>LinearRegression()</pre></div></div></div></div></div>"
      ],
      "text/plain": [
       "LinearRegression()"
      ]
     },
     "execution_count": 19,
     "metadata": {},
     "output_type": "execute_result"
    }
   ],
   "source": [
    "model = LinearRegression()\n",
    "model.fit(X_train, y_train)"
   ]
  },
  {
   "cell_type": "code",
   "execution_count": 20,
   "id": "3aa7b567-30c2-4d03-b935-080162f3d2a3",
   "metadata": {},
   "outputs": [],
   "source": [
    "y_pred = model.predict(X_test)"
   ]
  },
  {
   "cell_type": "code",
   "execution_count": 21,
   "id": "f061b4c8-1863-48a2-a084-6ecb16e04804",
   "metadata": {},
   "outputs": [],
   "source": [
    "mse = mean_squared_error(y_test, y_pred)\n",
    "r2 = r2_score(y_test, y_pred)"
   ]
  },
  {
   "cell_type": "code",
   "execution_count": 22,
   "id": "f1c08524-1fab-4b68-aae6-9b29adb8b9d0",
   "metadata": {},
   "outputs": [
    {
     "name": "stdout",
     "output_type": "stream",
     "text": [
      "Mean Squared Error: 133905.91085171537\n",
      "R^2 Score: 0.3251249796651514\n"
     ]
    }
   ],
   "source": [
    "print(f'Mean Squared Error: {mse}')\n",
    "print(f'R^2 Score: {r2}')"
   ]
  },
  {
   "cell_type": "code",
   "execution_count": 23,
   "id": "b47e710a-e8ec-413d-a74c-76a7413e714e",
   "metadata": {},
   "outputs": [],
   "source": [
    "latest_row = data.iloc[-1].copy()"
   ]
  },
  {
   "cell_type": "code",
   "execution_count": 24,
   "id": "e6e3729e-6ce3-401a-9154-09ba5bac5eb8",
   "metadata": {},
   "outputs": [],
   "source": [
    "latest_row['Previous_Usage'] = latest_row['Usage']\n"
   ]
  },
  {
   "cell_type": "code",
   "execution_count": 25,
   "id": "53f79952-bae7-4c73-8ae4-9abd486c88d1",
   "metadata": {},
   "outputs": [],
   "source": [
    "latest_row = latest_row.drop('Usage')"
   ]
  },
  {
   "cell_type": "code",
   "execution_count": 26,
   "id": "bcef49ce-4f8d-411e-88e7-cb85d40cc0af",
   "metadata": {},
   "outputs": [],
   "source": [
    "latest_row_df = pd.DataFrame(latest_row).T"
   ]
  },
  {
   "cell_type": "code",
   "execution_count": 27,
   "id": "801f24a7-e4bb-4e2a-9b7e-c3fbdbd477cd",
   "metadata": {},
   "outputs": [],
   "source": [
    "latest_row_scaled = scaler.transform(latest_row_df)"
   ]
  },
  {
   "cell_type": "code",
   "execution_count": 28,
   "id": "952c86c7-da3d-419a-ac80-1efa3029f989",
   "metadata": {},
   "outputs": [
    {
     "name": "stdout",
     "output_type": "stream",
     "text": [
      "Predicted water usage for the upcoming month: 86.28300331531479\n"
     ]
    }
   ],
   "source": [
    "predicted_next_month_usage = model.predict(latest_row_scaled)[0]\n",
    "print(f'Predicted water usage for the upcoming month: {predicted_next_month_usage}')"
   ]
  },
  {
   "cell_type": "code",
   "execution_count": null,
   "id": "4fe6cd4b-e697-43b8-aa6f-972698b8a08c",
   "metadata": {},
   "outputs": [],
   "source": []
  }
 ],
 "metadata": {
  "kernelspec": {
   "display_name": "Python 3 (ipykernel)",
   "language": "python",
   "name": "python3"
  },
  "language_info": {
   "codemirror_mode": {
    "name": "ipython",
    "version": 3
   },
   "file_extension": ".py",
   "mimetype": "text/x-python",
   "name": "python",
   "nbconvert_exporter": "python",
   "pygments_lexer": "ipython3",
   "version": "3.8.2"
  }
 },
 "nbformat": 4,
 "nbformat_minor": 5
}
